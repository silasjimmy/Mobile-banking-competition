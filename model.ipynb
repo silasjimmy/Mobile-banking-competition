{
 "cells": [
  {
   "cell_type": "code",
   "execution_count": 1,
   "id": "greatest-flight",
   "metadata": {},
   "outputs": [],
   "source": [
    "import os\n",
    "import pandas as pd\n",
    "import numpy as np\n",
    "\n",
    "from sklearn.linear_model import LogisticRegression"
   ]
  },
  {
   "cell_type": "code",
   "execution_count": 2,
   "id": "recreational-wrong",
   "metadata": {},
   "outputs": [],
   "source": [
    "train = os.path.join(os.getcwd(), 'data/Train.csv')\n",
    "test = os.path.join(os.getcwd(), 'data/Test.csv')\n",
    "\n",
    "train_data = pd.read_csv(train)\n",
    "test_data = pd.read_csv(test)"
   ]
  },
  {
   "cell_type": "code",
   "execution_count": 3,
   "id": "imperial-medicare",
   "metadata": {},
   "outputs": [],
   "source": [
    "def replace_column_values(dataframe, column_name, old_value, new_value):\n",
    "    '''\n",
    "    Replaces old values with new values in a specific column.\n",
    "    '''\n",
    "    return dataframe[column_name].replace([old_value], new_value)\n",
    "    \n",
    "def convert_dtype(dataframe, column_name, data_type_func):\n",
    "    '''\n",
    "    Converts the data type values of a specific column.\n",
    "    '''\n",
    "    return dataframe[column_name].apply(data_type_func)"
   ]
  },
  {
   "cell_type": "code",
   "execution_count": 4,
   "id": "welsh-brook",
   "metadata": {},
   "outputs": [],
   "source": [
    "# Drop the ID column\n",
    "train_data = train_data.drop(columns=['ID'])\n",
    "test_data = test_data.drop(columns=['ID'])\n",
    "\n",
    "# Impute NaN values and convert float value to int values\n",
    "for column_name in train_data.columns:\n",
    "    if train_data[column_name].isnull().values.any():\n",
    "        train_data[column_name] = replace_column_values(train_data, column_name, np.nan, train_data[column_name].mode())\n",
    "    \n",
    "    if train_data[column_name].dtypes == 'float64':\n",
    "        train_data[column_name] = convert_dtype(train_data, column_name, np.int64)\n",
    "        \n",
    "for column_name in test_data.columns:\n",
    "    if test_data[column_name].isnull().values.any():\n",
    "        test_data[column_name] = replace_column_values(test_data, column_name, np.nan, test_data[column_name].mode())\n",
    "    \n",
    "    if test_data[column_name].dtypes == 'float64':\n",
    "        test_data[column_name] = convert_dtype(test_data, column_name, np.int64)\n",
    "        \n",
    "X_train, y_train = train_data.iloc[:, :-1], train_data.iloc[:, [-1]]"
   ]
  },
  {
   "cell_type": "code",
   "execution_count": 5,
   "id": "cooked-coupon",
   "metadata": {},
   "outputs": [],
   "source": [
    "y_train = np.array(y_train)\n",
    "y_train = y_train.reshape((108446,))"
   ]
  },
  {
   "cell_type": "code",
   "execution_count": 6,
   "id": "greatest-disaster",
   "metadata": {},
   "outputs": [
    {
     "name": "stderr",
     "output_type": "stream",
     "text": [
      "[Parallel(n_jobs=1)]: Using backend SequentialBackend with 1 concurrent workers.\n",
      "/home/silasjimmy/anaconda3/envs/DataScience/lib/python3.8/site-packages/sklearn/linear_model/_logistic.py:762: ConvergenceWarning: lbfgs failed to converge (status=1):\n",
      "STOP: TOTAL NO. of ITERATIONS REACHED LIMIT.\n",
      "\n",
      "Increase the number of iterations (max_iter) or scale the data as shown in:\n",
      "    https://scikit-learn.org/stable/modules/preprocessing.html\n",
      "Please also refer to the documentation for alternative solver options:\n",
      "    https://scikit-learn.org/stable/modules/linear_model.html#logistic-regression\n",
      "  n_iter_i = _check_optimize_result(\n",
      "[Parallel(n_jobs=1)]: Done   1 out of   1 | elapsed:    1.5s finished\n"
     ]
    },
    {
     "data": {
      "text/plain": [
       "LogisticRegression(random_state=0, verbose=1)"
      ]
     },
     "execution_count": 6,
     "metadata": {},
     "output_type": "execute_result"
    }
   ],
   "source": [
    "# Create and train the model\n",
    "clf = LogisticRegression(random_state=0, verbose=1)\n",
    "clf.fit(X_train, y_train)"
   ]
  },
  {
   "cell_type": "code",
   "execution_count": 7,
   "id": "blocked-duplicate",
   "metadata": {},
   "outputs": [],
   "source": [
    "# # Predict a value \n",
    "# predicted = clf.predict(test_data)"
   ]
  }
 ],
 "metadata": {
  "kernelspec": {
   "display_name": "Python 3",
   "language": "python",
   "name": "python3"
  },
  "language_info": {
   "codemirror_mode": {
    "name": "ipython",
    "version": 3
   },
   "file_extension": ".py",
   "mimetype": "text/x-python",
   "name": "python",
   "nbconvert_exporter": "python",
   "pygments_lexer": "ipython3",
   "version": "3.8.5"
  }
 },
 "nbformat": 4,
 "nbformat_minor": 5
}
